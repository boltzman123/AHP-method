{
 "cells": [
  {
   "cell_type": "code",
   "execution_count": 53,
   "metadata": {},
   "outputs": [],
   "source": [
    "import numpy as np\n",
    "import math"
   ]
  },
  {
   "cell_type": "code",
   "execution_count": 183,
   "metadata": {},
   "outputs": [],
   "source": [
    "def fill_matrix(matrix):\n",
    "    rows, cols = matrix.shape\n",
    "    print(f\"Enter values for a {rows}x{cols} matrix:\")\n",
    "    \n",
    "    for i in range(rows):\n",
    "        for j in range(cols):\n",
    "            if i == j and cols != 1:\n",
    "                continue\n",
    "            if j > i:\n",
    "                matrix[i, j] = float(input(f\"Enter value for element at position ({i+1}, {j+1}): \"))\n",
    "                matrix[j, i] = 1 / matrix[i, j]\n",
    "                \n",
    "            if cols == 1:\n",
    "                matrix[i, j] = float(input(f\"Enter value for element at position ({i+1}, {j+1}): \"))\n",
    "                \n",
    "    \n",
    "    return np.array(matrix)"
   ]
  },
  {
   "cell_type": "code",
   "execution_count": 176,
   "metadata": {},
   "outputs": [
    {
     "name": "stdout",
     "output_type": "stream",
     "text": [
      "Enter values for a 3x3 matrix:\n"
     ]
    },
    {
     "data": {
      "text/plain": [
       "array([[1.        , 0.5       , 3.        ],\n",
       "       [2.        , 1.        , 4.        ],\n",
       "       [0.33333333, 0.25      , 1.        ]])"
      ]
     },
     "execution_count": 176,
     "metadata": {},
     "output_type": "execute_result"
    }
   ],
   "source": [
    "number_of_criteria = 3\n",
    "\n",
    "comparison_matrix = np.ones((number_of_criteria, number_of_criteria))\n",
    "comparison_matrix = fill_matrix(comparison_matrix)\n",
    "comparison_matrix"
   ]
  },
  {
   "cell_type": "code",
   "execution_count": 177,
   "metadata": {},
   "outputs": [
    {
     "data": {
      "text/plain": [
       "3.1415926535897935e-05"
      ]
     },
     "execution_count": 177,
     "metadata": {},
     "output_type": "execute_result"
    }
   ],
   "source": [
    "epsilon = math.pi* 10 **(-5)\n",
    "epsilon"
   ]
  },
  {
   "cell_type": "code",
   "execution_count": 145,
   "metadata": {},
   "outputs": [],
   "source": [
    "def find_eigenvector(epsilon, A):\n",
    "    n, c = A.shape\n",
    "    x0 = np.ones((n, 1))\n",
    "    y = x0\n",
    "\n",
    "    lambda_score = np.dot(y.T, x0)\n",
    "    lambda_score[0][0]\n",
    "    l2_norm = math.inf\n",
    "\n",
    "    if c == 1:\n",
    "        norm = np.linalg.norm(A)\n",
    "        return (A / norm), _\n",
    "       \n",
    "    while (l2_norm >= epsilon):\n",
    "        x = (1/np.linalg.norm(y, 2))*y\n",
    "        y = np.matmul(A, x)\n",
    "        lambda_score = np.dot(y.T, x)\n",
    "        diff_vector = y - lambda_score[0][0]*x\n",
    "        l2_norm = np.linalg.norm(diff_vector, 2)\n",
    "    \n",
    "    return x, lambda_score\n",
    "    "
   ]
  },
  {
   "cell_type": "code",
   "execution_count": 178,
   "metadata": {},
   "outputs": [
    {
     "name": "stdout",
     "output_type": "stream",
     "text": [
      "[[0.488058  ]\n",
      " [0.85271238]\n",
      " [0.18622833]]\n",
      "Most preffered criteria: 2\n"
     ]
    }
   ],
   "source": [
    "criteria_eigenvector, lambda_max = find_eigenvector(epsilon, comparison_matrix)\n",
    "print(criteria_eigenvector)\n",
    "\n",
    "print(f\"Most preffered criteria: {np.argmax(criteria_eigenvector) + 1}\")\n"
   ]
  },
  {
   "cell_type": "code",
   "execution_count": 179,
   "metadata": {},
   "outputs": [
    {
     "name": "stdout",
     "output_type": "stream",
     "text": [
      "CR: [0.01577306]\n",
      "Data is Saaty consistent\n"
     ]
    }
   ],
   "source": [
    "RI = [0, 0, 0.58, 0.9, 1.12, 1.24, 1.32, 1.41, 1.45, 1.49]\n",
    "CI = (lambda_max - number_of_criteria) / (number_of_criteria - 1)\n",
    "CR = CI / RI[number_of_criteria - 1]\n",
    "\n",
    "print(f\"CR: {CR[0]}\")\n",
    "if CR < 0.1:\n",
    "    print(f\"Data is Saaty consistent\")\n",
    "else:\n",
    "    print(f\"Data is not Saaty consistent\")"
   ]
  },
  {
   "cell_type": "code",
   "execution_count": 184,
   "metadata": {},
   "outputs": [
    {
     "name": "stdout",
     "output_type": "stream",
     "text": [
      "Enter values for a 4x4 matrix:\n",
      "Enter values for a 4x4 matrix:\n",
      "Enter values for a 4x1 matrix:\n"
     ]
    }
   ],
   "source": [
    "number_of_alternatives = 4\n",
    "alt_matrices = []\n",
    "for i in range(number_of_criteria):\n",
    "    flag = input(\"Do you want a column matrix? (Answer: yes or no)\")\n",
    "    if flag == \"yes\":\n",
    "        alternative_matrix = np.ones((number_of_alternatives, 1))\n",
    "    else:\n",
    "        alternative_matrix = np.ones((number_of_alternatives, number_of_alternatives))\n",
    "\n",
    "    alternative_matrix = fill_matrix(alternative_matrix)\n",
    "    alt_matrices.append(alternative_matrix)"
   ]
  },
  {
   "cell_type": "code",
   "execution_count": 185,
   "metadata": {},
   "outputs": [
    {
     "data": {
      "text/plain": [
       "[array([[1.        , 0.25      , 4.        , 0.16666667],\n",
       "        [4.        , 1.        , 4.        , 0.25      ],\n",
       "        [0.25      , 0.25      , 1.        , 0.2       ],\n",
       "        [5.99999999, 4.        , 5.        , 1.        ]]),\n",
       " array([[1.        , 2.        , 5.        , 1.        ],\n",
       "        [0.5       , 1.        , 3.        , 2.        ],\n",
       "        [0.2       , 0.33333333, 1.        , 0.25      ],\n",
       "        [1.        , 0.5       , 4.        , 1.        ]]),\n",
       " array([[150.],\n",
       "        [170.],\n",
       "        [162.],\n",
       "        [185.]])]"
      ]
     },
     "execution_count": 185,
     "metadata": {},
     "output_type": "execute_result"
    }
   ],
   "source": [
    "alt_matrices"
   ]
  },
  {
   "cell_type": "code",
   "execution_count": 186,
   "metadata": {},
   "outputs": [
    {
     "name": "stdout",
     "output_type": "stream",
     "text": [
      "Best choice for alternative 1 is 4\n",
      "Best choice for alternative 2 is 1\n",
      "Best choice for alternative 3 is 4\n"
     ]
    }
   ],
   "source": [
    "eigenvectors = []\n",
    "\n",
    "for i in range(len(alt_matrices)):\n",
    "    alt_eigenvector = find_eigenvector(epsilon, alt_matrices[i])[0]\n",
    "    \n",
    "    best_choice_for_alt = np.argmax(alt_eigenvector) + 1\n",
    "    print(f\"Best choice for alternative {i + 1} is {best_choice_for_alt}\")\n",
    "    eigenvectors.append(alt_eigenvector)"
   ]
  },
  {
   "cell_type": "code",
   "execution_count": 187,
   "metadata": {},
   "outputs": [
    {
     "data": {
      "text/plain": [
       "[array([[0.18069624],\n",
       "        [0.38495897],\n",
       "        [0.09359041],\n",
       "        [0.90022014]]),\n",
       " array([[0.69225925],\n",
       "        [0.53052591],\n",
       "        [0.13562027],\n",
       "        [0.47002823]]),\n",
       " array([[0.44847308],\n",
       "        [0.50826949],\n",
       "        [0.48435093],\n",
       "        [0.5531168 ]])]"
      ]
     },
     "execution_count": 187,
     "metadata": {},
     "output_type": "execute_result"
    }
   ],
   "source": [
    "eigenvectors"
   ]
  },
  {
   "cell_type": "code",
   "execution_count": 188,
   "metadata": {},
   "outputs": [
    {
     "data": {
      "text/plain": [
       "array([[0.18069624, 0.69225925, 0.44847308],\n",
       "       [0.38495897, 0.53052591, 0.50826949],\n",
       "       [0.09359041, 0.13562027, 0.48435093],\n",
       "       [0.90022014, 0.47002823, 0.5531168 ]])"
      ]
     },
     "execution_count": 188,
     "metadata": {},
     "output_type": "execute_result"
    }
   ],
   "source": [
    "stacked_matrix = np.hstack(eigenvectors)\n",
    "stacked_matrix"
   ]
  },
  {
   "cell_type": "code",
   "execution_count": 189,
   "metadata": {},
   "outputs": [
    {
     "name": "stdout",
     "output_type": "stream",
     "text": [
      "[[0.76200666]\n",
      " [0.73492249]\n",
      " [0.2515225 ]\n",
      " [0.94316455]]\n",
      "We should choose alternative 4\n"
     ]
    }
   ],
   "source": [
    "result_matrix = np.matmul(stacked_matrix, criteria_eigenvector)\n",
    "print(result_matrix)\n",
    "print(f\"We should choose alternative {np.argmax(result_matrix) + 1}\")"
   ]
  }
 ],
 "metadata": {
  "kernelspec": {
   "display_name": "base",
   "language": "python",
   "name": "python3"
  },
  "language_info": {
   "codemirror_mode": {
    "name": "ipython",
    "version": 3
   },
   "file_extension": ".py",
   "mimetype": "text/x-python",
   "name": "python",
   "nbconvert_exporter": "python",
   "pygments_lexer": "ipython3",
   "version": "3.10.10"
  }
 },
 "nbformat": 4,
 "nbformat_minor": 2
}
